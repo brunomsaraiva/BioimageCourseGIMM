{
 "cells": [
  {
   "cell_type": "markdown",
   "metadata": {},
   "source": [
    "# 5. Deep Learning use case - Cellpose\n",
    "\n",
    "[Cellpose paper](https://www.nature.com/articles/s41592-020-01018-x) - [GitHub repo](https://github.com/MouseLand/cellpose)"
   ]
  },
  {
   "cell_type": "markdown",
   "metadata": {},
   "source": [
    "## 5.1. Cellpose GUI (15mins)\n",
    "\n",
    "Use Cellpose GUI to test the pre-trained built-in models on the example images.\n",
    "\n",
    "- Activate the cellpose environment made with the [yml file](https://forum.image.sc/t/cellpose-gui-installation-on-centos-7-issue-with-pyqt-6/90235/2)\n",
    "- Activate the cellpose GUI\n",
    "- Explore the GUI together\n",
    "- Test the pre-trained models on the example images in the folder 'cellpose_example'\n",
    "\n",
    "\n",
    "Example data sources:\n",
    "- [HPA cell image segmentation dataset](https://bioimage.io/#/?type=dataset&id=hpa%2Fhpa-cell-image-segmentation-dataset)\n",
    "- [Stardist dataset](https://bioimage.io/#/?type=all&tags=stardist&id=zero%2Fdataset_stardist_2d_zerocostdl4mic_2d)\n",
    "- [Deepbacs dataset](https://bioimage.io/#/?type=dataset&id=zero%2Fdataset_stardist_2d_deepbacs)\n",
    "\n"
   ]
  },
  {
   "cell_type": "markdown",
   "metadata": {},
   "source": [
    "### 5.1.1. Model fine-tunning via GUI\n",
    "\n",
    "Via the cellpose GUI you can correct the segmentation and re-train the model, therefore fine-tuning the model to your dataset.\n"
   ]
  },
  {
   "cell_type": "markdown",
   "metadata": {},
   "source": [
    "## 5.2. Programatic use of Cellpose \n",
    "\n",
    "How to use Cellpose within your Python code workflow:\n",
    "\n",
    "1. From the cellpose library import the io, models, and core modules\n",
    "2. Initalize a pre-trained cellpose model using `models.Cellpose` and `model_type='cyto3'` or `model_type='nuclei'`\n",
    "3. Load an image using `io.imread`\n",
    "4. Evaluate the model on the image, try ``.eval`` on the initialized model - it has 4 outputs: ``masks_pred, flows, styles, diams``\n",
    "5. Visualize the mask results via ``matplotlib.pyplot``\n",
    "\n",
    "\n",
    "NOTES:\n",
    "- For the full list of available models, see the [Cellpose models documentation](https://cellpose.readthedocs.io/en/latest/models.html)\n",
    "- By using `pretrained_model='/full/path/to/model'` you can load a local pre-trained model\n",
    "\n"
   ]
  },
  {
   "cell_type": "code",
   "execution_count": null,
   "metadata": {},
   "outputs": [],
   "source": [
    "from cellpose import io, models\n",
    "import matplotlib.pyplot as plt\n",
    "\n",
    "# import the image\n",
    "img = io.imread('../data/cellpose_example/HPA_cell_1.tif')\n",
    "\n",
    "# Initialize the model\n",
    "model = models.Cellpose(model_type=\"cyto3\")\n",
    "\n",
    "# Evaluate the model on the image\n",
    "masks_pred, flows, styles, diams = model.eval(img, diameter=0, channels=[1,2], niter=2000) # using more iterations for bacteria\n",
    "\n",
    "# Show the masks\n",
    "plt.imshow(masks_pred)"
   ]
  },
  {
   "cell_type": "code",
   "execution_count": null,
   "metadata": {},
   "outputs": [],
   "source": []
  }
 ],
 "metadata": {
  "kernelspec": {
   "display_name": "ds_regionprops",
   "language": "python",
   "name": "python3"
  },
  "language_info": {
   "codemirror_mode": {
    "name": "ipython",
    "version": 3
   },
   "file_extension": ".py",
   "mimetype": "text/x-python",
   "name": "python",
   "nbconvert_exporter": "python",
   "pygments_lexer": "ipython3",
   "version": "3.12.3"
  }
 },
 "nbformat": 4,
 "nbformat_minor": 2
}
