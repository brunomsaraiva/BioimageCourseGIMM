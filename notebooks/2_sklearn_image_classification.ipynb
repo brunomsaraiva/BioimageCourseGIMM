{
 "cells": [
  {
   "cell_type": "markdown",
   "metadata": {},
   "source": [
    "# Let's start by installing all required libraries"
   ]
  },
  {
   "cell_type": "code",
   "execution_count": 1,
   "metadata": {},
   "outputs": [
    {
     "name": "stdout",
     "output_type": "stream",
     "text": [
      "Requirement already satisfied: numpy in /Users/bsaraiva/mambaforge/envs/bioimagecourse/lib/python3.10/site-packages (2.1.1)\n",
      "Requirement already satisfied: scikit_learn in /Users/bsaraiva/mambaforge/envs/bioimagecourse/lib/python3.10/site-packages (1.5.2)\n",
      "Requirement already satisfied: matplotlib in /Users/bsaraiva/mambaforge/envs/bioimagecourse/lib/python3.10/site-packages (3.9.2)\n",
      "Requirement already satisfied: seaborn in /Users/bsaraiva/mambaforge/envs/bioimagecourse/lib/python3.10/site-packages (0.13.2)\n",
      "Requirement already satisfied: pandas in /Users/bsaraiva/mambaforge/envs/bioimagecourse/lib/python3.10/site-packages (2.2.3)\n",
      "Requirement already satisfied: tifffile in /Users/bsaraiva/mambaforge/envs/bioimagecourse/lib/python3.10/site-packages (2024.9.20)\n",
      "Requirement already satisfied: scipy>=1.6.0 in /Users/bsaraiva/mambaforge/envs/bioimagecourse/lib/python3.10/site-packages (from scikit_learn) (1.14.1)\n",
      "Requirement already satisfied: joblib>=1.2.0 in /Users/bsaraiva/mambaforge/envs/bioimagecourse/lib/python3.10/site-packages (from scikit_learn) (1.4.2)\n",
      "Requirement already satisfied: threadpoolctl>=3.1.0 in /Users/bsaraiva/mambaforge/envs/bioimagecourse/lib/python3.10/site-packages (from scikit_learn) (3.5.0)\n",
      "Requirement already satisfied: contourpy>=1.0.1 in /Users/bsaraiva/mambaforge/envs/bioimagecourse/lib/python3.10/site-packages (from matplotlib) (1.3.0)\n",
      "Requirement already satisfied: cycler>=0.10 in /Users/bsaraiva/mambaforge/envs/bioimagecourse/lib/python3.10/site-packages (from matplotlib) (0.12.1)\n",
      "Requirement already satisfied: fonttools>=4.22.0 in /Users/bsaraiva/mambaforge/envs/bioimagecourse/lib/python3.10/site-packages (from matplotlib) (4.53.1)\n",
      "Requirement already satisfied: kiwisolver>=1.3.1 in /Users/bsaraiva/mambaforge/envs/bioimagecourse/lib/python3.10/site-packages (from matplotlib) (1.4.7)\n",
      "Requirement already satisfied: packaging>=20.0 in /Users/bsaraiva/mambaforge/envs/bioimagecourse/lib/python3.10/site-packages (from matplotlib) (24.1)\n",
      "Requirement already satisfied: pillow>=8 in /Users/bsaraiva/mambaforge/envs/bioimagecourse/lib/python3.10/site-packages (from matplotlib) (10.4.0)\n",
      "Requirement already satisfied: pyparsing>=2.3.1 in /Users/bsaraiva/mambaforge/envs/bioimagecourse/lib/python3.10/site-packages (from matplotlib) (3.1.4)\n",
      "Requirement already satisfied: python-dateutil>=2.7 in /Users/bsaraiva/mambaforge/envs/bioimagecourse/lib/python3.10/site-packages (from matplotlib) (2.9.0)\n",
      "Requirement already satisfied: pytz>=2020.1 in /Users/bsaraiva/mambaforge/envs/bioimagecourse/lib/python3.10/site-packages (from pandas) (2024.2)\n",
      "Requirement already satisfied: tzdata>=2022.7 in /Users/bsaraiva/mambaforge/envs/bioimagecourse/lib/python3.10/site-packages (from pandas) (2024.1)\n",
      "Requirement already satisfied: six>=1.5 in /Users/bsaraiva/mambaforge/envs/bioimagecourse/lib/python3.10/site-packages (from python-dateutil>=2.7->matplotlib) (1.16.0)\n"
     ]
    }
   ],
   "source": [
    "!pip install numpy scikit_learn matplotlib seaborn pandas tifffile -q"
   ]
  },
  {
   "cell_type": "markdown",
   "metadata": {},
   "source": [
    "## Load a csv table containing morphometric measurements for single cells as well as manual annotations of their cell cycle phase"
   ]
  },
  {
   "cell_type": "code",
   "execution_count": 3,
   "metadata": {},
   "outputs": [],
   "source": [
    "import pandas as pd\n",
    "\n",
    "data_wt = pd.read_csv(\"../data/wt_measurements.csv\")"
   ]
  },
  {
   "cell_type": "markdown",
   "metadata": {},
   "source": [
    "## Take a look at our data"
   ]
  },
  {
   "cell_type": "code",
   "execution_count": 10,
   "metadata": {},
   "outputs": [
    {
     "data": {
      "text/html": [
       "<div>\n",
       "<style scoped>\n",
       "    .dataframe tbody tr th:only-of-type {\n",
       "        vertical-align: middle;\n",
       "    }\n",
       "\n",
       "    .dataframe tbody tr th {\n",
       "        vertical-align: top;\n",
       "    }\n",
       "\n",
       "    .dataframe thead th {\n",
       "        text-align: right;\n",
       "    }\n",
       "</style>\n",
       "<table border=\"1\" class=\"dataframe\">\n",
       "  <thead>\n",
       "    <tr style=\"text-align: right;\">\n",
       "      <th></th>\n",
       "      <th>Cell ID</th>\n",
       "      <th>Area</th>\n",
       "      <th>Perimeter</th>\n",
       "      <th>Length</th>\n",
       "      <th>Width</th>\n",
       "      <th>Eccentricity</th>\n",
       "      <th>Irregularity</th>\n",
       "      <th>Cell Cycle Phase</th>\n",
       "      <th>Area_scaled</th>\n",
       "      <th>Perimeter_scaled</th>\n",
       "      <th>Length_scaled</th>\n",
       "      <th>Width_scaled</th>\n",
       "      <th>Eccentricity_scaled</th>\n",
       "      <th>Irregularity_scaled</th>\n",
       "    </tr>\n",
       "  </thead>\n",
       "  <tbody>\n",
       "    <tr>\n",
       "      <th>0</th>\n",
       "      <td>5</td>\n",
       "      <td>204</td>\n",
       "      <td>60</td>\n",
       "      <td>15.000000</td>\n",
       "      <td>15.000000</td>\n",
       "      <td>0.000000</td>\n",
       "      <td>4.200840</td>\n",
       "      <td>1</td>\n",
       "      <td>-1.649815</td>\n",
       "      <td>-1.876776</td>\n",
       "      <td>-2.056719</td>\n",
       "      <td>-1.491292</td>\n",
       "      <td>-3.371588</td>\n",
       "      <td>-0.734718</td>\n",
       "    </tr>\n",
       "    <tr>\n",
       "      <th>1</th>\n",
       "      <td>60</td>\n",
       "      <td>442</td>\n",
       "      <td>93</td>\n",
       "      <td>24.698178</td>\n",
       "      <td>21.189620</td>\n",
       "      <td>0.513745</td>\n",
       "      <td>4.423559</td>\n",
       "      <td>3</td>\n",
       "      <td>1.758735</td>\n",
       "      <td>1.664950</td>\n",
       "      <td>1.410927</td>\n",
       "      <td>1.569969</td>\n",
       "      <td>0.358666</td>\n",
       "      <td>0.229600</td>\n",
       "    </tr>\n",
       "    <tr>\n",
       "      <th>2</th>\n",
       "      <td>54</td>\n",
       "      <td>322</td>\n",
       "      <td>80</td>\n",
       "      <td>21.260292</td>\n",
       "      <td>18.439089</td>\n",
       "      <td>0.497783</td>\n",
       "      <td>4.458226</td>\n",
       "      <td>2</td>\n",
       "      <td>0.040138</td>\n",
       "      <td>0.269725</td>\n",
       "      <td>0.181689</td>\n",
       "      <td>0.209612</td>\n",
       "      <td>0.242762</td>\n",
       "      <td>0.379699</td>\n",
       "    </tr>\n",
       "    <tr>\n",
       "      <th>3</th>\n",
       "      <td>64</td>\n",
       "      <td>314</td>\n",
       "      <td>76</td>\n",
       "      <td>20.000000</td>\n",
       "      <td>18.000000</td>\n",
       "      <td>0.435890</td>\n",
       "      <td>4.288928</td>\n",
       "      <td>1</td>\n",
       "      <td>-0.074435</td>\n",
       "      <td>-0.159575</td>\n",
       "      <td>-0.268937</td>\n",
       "      <td>-0.007553</td>\n",
       "      <td>-0.206636</td>\n",
       "      <td>-0.353319</td>\n",
       "    </tr>\n",
       "    <tr>\n",
       "      <th>4</th>\n",
       "      <td>6</td>\n",
       "      <td>217</td>\n",
       "      <td>66</td>\n",
       "      <td>17.204651</td>\n",
       "      <td>15.000000</td>\n",
       "      <td>0.489760</td>\n",
       "      <td>4.480372</td>\n",
       "      <td>1</td>\n",
       "      <td>-1.463634</td>\n",
       "      <td>-1.232826</td>\n",
       "      <td>-1.268432</td>\n",
       "      <td>-1.491292</td>\n",
       "      <td>0.184510</td>\n",
       "      <td>0.475587</td>\n",
       "    </tr>\n",
       "    <tr>\n",
       "      <th>...</th>\n",
       "      <td>...</td>\n",
       "      <td>...</td>\n",
       "      <td>...</td>\n",
       "      <td>...</td>\n",
       "      <td>...</td>\n",
       "      <td>...</td>\n",
       "      <td>...</td>\n",
       "      <td>...</td>\n",
       "      <td>...</td>\n",
       "      <td>...</td>\n",
       "      <td>...</td>\n",
       "      <td>...</td>\n",
       "      <td>...</td>\n",
       "      <td>...</td>\n",
       "    </tr>\n",
       "    <tr>\n",
       "      <th>147</th>\n",
       "      <td>55</td>\n",
       "      <td>377</td>\n",
       "      <td>82</td>\n",
       "      <td>23.000000</td>\n",
       "      <td>18.000000</td>\n",
       "      <td>0.622514</td>\n",
       "      <td>4.223215</td>\n",
       "      <td>3</td>\n",
       "      <td>0.827828</td>\n",
       "      <td>0.484375</td>\n",
       "      <td>0.803732</td>\n",
       "      <td>-0.007553</td>\n",
       "      <td>1.148423</td>\n",
       "      <td>-0.637842</td>\n",
       "    </tr>\n",
       "    <tr>\n",
       "      <th>148</th>\n",
       "      <td>57</td>\n",
       "      <td>379</td>\n",
       "      <td>86</td>\n",
       "      <td>22.360680</td>\n",
       "      <td>20.396078</td>\n",
       "      <td>0.409878</td>\n",
       "      <td>4.417523</td>\n",
       "      <td>2</td>\n",
       "      <td>0.856472</td>\n",
       "      <td>0.913675</td>\n",
       "      <td>0.575139</td>\n",
       "      <td>1.177499</td>\n",
       "      <td>-0.395505</td>\n",
       "      <td>0.203467</td>\n",
       "    </tr>\n",
       "    <tr>\n",
       "      <th>149</th>\n",
       "      <td>31</td>\n",
       "      <td>298</td>\n",
       "      <td>74</td>\n",
       "      <td>19.000000</td>\n",
       "      <td>18.000000</td>\n",
       "      <td>0.320145</td>\n",
       "      <td>4.286705</td>\n",
       "      <td>2</td>\n",
       "      <td>-0.303581</td>\n",
       "      <td>-0.374225</td>\n",
       "      <td>-0.626493</td>\n",
       "      <td>-0.007553</td>\n",
       "      <td>-1.047045</td>\n",
       "      <td>-0.362945</td>\n",
       "    </tr>\n",
       "    <tr>\n",
       "      <th>150</th>\n",
       "      <td>71</td>\n",
       "      <td>432</td>\n",
       "      <td>92</td>\n",
       "      <td>25.709920</td>\n",
       "      <td>20.615528</td>\n",
       "      <td>0.597524</td>\n",
       "      <td>4.426352</td>\n",
       "      <td>3</td>\n",
       "      <td>1.615519</td>\n",
       "      <td>1.557625</td>\n",
       "      <td>1.772682</td>\n",
       "      <td>1.286034</td>\n",
       "      <td>0.966973</td>\n",
       "      <td>0.241694</td>\n",
       "    </tr>\n",
       "    <tr>\n",
       "      <th>151</th>\n",
       "      <td>47</td>\n",
       "      <td>334</td>\n",
       "      <td>79</td>\n",
       "      <td>20.000000</td>\n",
       "      <td>19.000000</td>\n",
       "      <td>0.312250</td>\n",
       "      <td>4.322688</td>\n",
       "      <td>1</td>\n",
       "      <td>0.211998</td>\n",
       "      <td>0.162400</td>\n",
       "      <td>-0.268937</td>\n",
       "      <td>0.487027</td>\n",
       "      <td>-1.104373</td>\n",
       "      <td>-0.207148</td>\n",
       "    </tr>\n",
       "  </tbody>\n",
       "</table>\n",
       "<p>152 rows × 14 columns</p>\n",
       "</div>"
      ],
      "text/plain": [
       "     Cell ID   Area  Perimeter     Length      Width  Eccentricity  \\\n",
       "0           5   204         60  15.000000  15.000000      0.000000   \n",
       "1          60   442         93  24.698178  21.189620      0.513745   \n",
       "2          54   322         80  21.260292  18.439089      0.497783   \n",
       "3          64   314         76  20.000000  18.000000      0.435890   \n",
       "4           6   217         66  17.204651  15.000000      0.489760   \n",
       "..        ...   ...        ...        ...        ...           ...   \n",
       "147        55   377         82  23.000000  18.000000      0.622514   \n",
       "148        57   379         86  22.360680  20.396078      0.409878   \n",
       "149        31   298         74  19.000000  18.000000      0.320145   \n",
       "150        71   432         92  25.709920  20.615528      0.597524   \n",
       "151        47   334         79  20.000000  19.000000      0.312250   \n",
       "\n",
       "     Irregularity  Cell Cycle Phase  Area_scaled  Perimeter_scaled  \\\n",
       "0        4.200840                 1    -1.649815         -1.876776   \n",
       "1        4.423559                 3     1.758735          1.664950   \n",
       "2        4.458226                 2     0.040138          0.269725   \n",
       "3        4.288928                 1    -0.074435         -0.159575   \n",
       "4        4.480372                 1    -1.463634         -1.232826   \n",
       "..            ...               ...          ...               ...   \n",
       "147      4.223215                 3     0.827828          0.484375   \n",
       "148      4.417523                 2     0.856472          0.913675   \n",
       "149      4.286705                 2    -0.303581         -0.374225   \n",
       "150      4.426352                 3     1.615519          1.557625   \n",
       "151      4.322688                 1     0.211998          0.162400   \n",
       "\n",
       "     Length_scaled  Width_scaled  Eccentricity_scaled  Irregularity_scaled  \n",
       "0        -2.056719     -1.491292            -3.371588            -0.734718  \n",
       "1         1.410927      1.569969             0.358666             0.229600  \n",
       "2         0.181689      0.209612             0.242762             0.379699  \n",
       "3        -0.268937     -0.007553            -0.206636            -0.353319  \n",
       "4        -1.268432     -1.491292             0.184510             0.475587  \n",
       "..             ...           ...                  ...                  ...  \n",
       "147       0.803732     -0.007553             1.148423            -0.637842  \n",
       "148       0.575139      1.177499            -0.395505             0.203467  \n",
       "149      -0.626493     -0.007553            -1.047045            -0.362945  \n",
       "150       1.772682      1.286034             0.966973             0.241694  \n",
       "151      -0.268937      0.487027            -1.104373            -0.207148  \n",
       "\n",
       "[152 rows x 14 columns]"
      ]
     },
     "execution_count": 10,
     "metadata": {},
     "output_type": "execute_result"
    }
   ],
   "source": [
    "data_wt"
   ]
  },
  {
   "cell_type": "code",
   "execution_count": 5,
   "metadata": {},
   "outputs": [
    {
     "data": {
      "text/plain": [
       "<Axes: >"
      ]
     },
     "execution_count": 5,
     "metadata": {},
     "output_type": "execute_result"
    },
    {
     "data": {
      "image/png": "[encoded data removed]",
      "text/plain": [
       "<Figure size 640x480 with 1 Axes>"
      ]
     },
     "metadata": {},
     "output_type": "display_data"
    }
   ],
   "source": [
    "data_wt[[ 'Area', 'Perimeter', 'Length', 'Width', 'Eccentricity',\n",
    "       'Irregularity']].plot(ls='',marker='.')"
   ]
  },
  {
   "cell_type": "code",
   "execution_count": 7,
   "metadata": {},
   "outputs": [
    {
     "data": {
      "text/plain": [
       "<Axes: >"
      ]
     },
     "execution_count": 7,
     "metadata": {},
     "output_type": "execute_result"
    },
    {
     "data": {
      "image/png": "[encoded data removed]",
      "text/plain": [
       "<Figure size 640x480 with 1 Axes>"
      ]
     },
     "metadata": {},
     "output_type": "display_data"
    }
   ],
   "source": [
    "data_wt['Cell Cycle Phase'].hist()"
   ]
  },
  {
   "cell_type": "markdown",
   "metadata": {},
   "source": [
    "## Let's try to create a basic classifier for cell cycle stage"
   ]
  },
  {
   "cell_type": "code",
   "execution_count": 9,
   "metadata": {},
   "outputs": [],
   "source": [
    "from sklearn.preprocessing import StandardScaler\n",
    "\n",
    "rows, columns = data_wt.shape\n",
    "\n",
    "## shuffle data\n",
    "data_wt = data_wt.sample(frac=1,replace=False,random_state=0).reset_index(drop=True)\n",
    "\n",
    "## standardize variables\n",
    "cols = ['Area', 'Perimeter', 'Length', 'Width', 'Eccentricity','Irregularity']\n",
    "\n",
    "for col in cols:\n",
    "  scaler = StandardScaler()\n",
    "  data_wt[col+\"_scaled\"] = scaler.fit_transform(data_wt[[col]])\n",
    "\n",
    "## split into train, test\n",
    "train = data_wt.loc[0:int(rows*0.8), :].copy() #separates 80% of data as training data\n",
    "test = data_wt.loc[int(rows*0.8):, :].copy() #separates 20% of data as validation data"
   ]
  },
  {
   "cell_type": "code",
   "execution_count": 11,
   "metadata": {},
   "outputs": [
    {
     "name": "stderr",
     "output_type": "stream",
     "text": [
      "/Users/bsaraiva/mambaforge/envs/bioimagecourse/lib/python3.10/site-packages/sklearn/linear_model/_logistic.py:469: ConvergenceWarning: lbfgs failed to converge (status=1):\n",
      "STOP: TOTAL NO. of ITERATIONS REACHED LIMIT.\n",
      "\n",
      "Increase the number of iterations (max_iter) or scale the data as shown in:\n",
      "    https://scikit-learn.org/stable/modules/preprocessing.html\n",
      "Please also refer to the documentation for alternative solver options:\n",
      "    https://scikit-learn.org/stable/modules/linear_model.html#logistic-regression\n",
      "  n_iter_i = _check_optimize_result(\n"
     ]
    },
    {
     "data": {
      "text/plain": [
       "0.5806451612903226"
      ]
     },
     "execution_count": 11,
     "metadata": {},
     "output_type": "execute_result"
    }
   ],
   "source": [
    "from sklearn.linear_model import LogisticRegression\n",
    "\n",
    "x_cols = ['Area', 'Perimeter', 'Length', 'Width', 'Eccentricity','Irregularity']\n",
    "y_col = 'Cell Cycle Phase'\n",
    "\n",
    "# fit on training set\n",
    "clf = LogisticRegression().fit(train[x_cols],train[y_col])\n",
    "\n",
    "# predictions on test set\n",
    "preds = clf.predict(test[x_cols])\n",
    "# accuracy on test set\n",
    "sum(preds==test[y_col])/test.shape[0]"
   ]
  },
  {
   "cell_type": "code",
   "execution_count": 12,
   "metadata": {},
   "outputs": [
    {
     "data": {
      "text/plain": [
       "array([[1.  , 0.  , 0.  ],\n",
       "       [0.5 , 0.  , 0.5 ],\n",
       "       [0.25, 0.  , 0.75]])"
      ]
     },
     "execution_count": 12,
     "metadata": {},
     "output_type": "execute_result"
    }
   ],
   "source": [
    "from sklearn.metrics import confusion_matrix,ConfusionMatrixDisplay\n",
    "\n",
    "conf_mat = confusion_matrix(test[y_col],preds,normalize='true')\n",
    "conf_mat"
   ]
  },
  {
   "cell_type": "code",
   "execution_count": 13,
   "metadata": {},
   "outputs": [
    {
     "data": {
      "text/plain": [
       "<sklearn.metrics._plot.confusion_matrix.ConfusionMatrixDisplay at 0x147f3bf40>"
      ]
     },
     "execution_count": 13,
     "metadata": {},
     "output_type": "execute_result"
    },
    {
     "data": {
      "image/png": "[encoded data removed]",
      "text/plain": [
       "<Figure size 640x480 with 2 Axes>"
      ]
     },
     "metadata": {},
     "output_type": "display_data"
    }
   ],
   "source": [
    "ConfusionMatrixDisplay(confusion_matrix=conf_mat).plot()"
   ]
  },
  {
   "cell_type": "markdown",
   "metadata": {},
   "source": [
    "## Accuracy is not necessarily a good metric...\n",
    "## Could this crappy model be explained by class inbalance?"
   ]
  },
  {
   "cell_type": "code",
   "execution_count": 18,
   "metadata": {},
   "outputs": [
    {
     "name": "stdout",
     "output_type": "stream",
     "text": [
      "We have 56 cells in phase 1, 28 cells in phase 2 and 38 cells in phase 3\n"
     ]
    },
    {
     "data": {
      "text/plain": [
       "<Axes: >"
      ]
     },
     "execution_count": 18,
     "metadata": {},
     "output_type": "execute_result"
    },
    {
     "data": {
      "image/png": "[encoded data removed]",
      "text/plain": [
       "<Figure size 640x480 with 1 Axes>"
      ]
     },
     "metadata": {},
     "output_type": "display_data"
    }
   ],
   "source": [
    "p1, p2, p3 = train[train['Cell Cycle Phase']==1].shape[0], train[train['Cell Cycle Phase']==2].shape[0], train[train['Cell Cycle Phase']==3].shape[0]\n",
    "print(f\"We have {p1} cells in phase 1, {p2} cells in phase 2 and {p3} cells in phase 3\")\n",
    "train['Cell Cycle Phase'].hist()"
   ]
  },
  {
   "cell_type": "markdown",
   "metadata": {},
   "source": [
    "## We need to balance our classes, we can start by trying to oversample the minority classes"
   ]
  },
  {
   "cell_type": "code",
   "execution_count": 23,
   "metadata": {},
   "outputs": [
    {
     "data": {
      "text/plain": [
       "<Axes: >"
      ]
     },
     "execution_count": 23,
     "metadata": {},
     "output_type": "execute_result"
    },
    {
     "data": {
      "image/png": "[encoded data removed]",
      "text/plain": [
       "<Figure size 640x480 with 1 Axes>"
      ]
     },
     "metadata": {},
     "output_type": "display_data"
    }
   ],
   "source": [
    "train_oversampled = pd.concat([train,train[train['Cell Cycle Phase']==2].sample(n=p1-p2,replace=True) ]).reset_index(drop=True)\n",
    "train_oversampled = pd.concat([train_oversampled,train[train['Cell Cycle Phase']==3].sample(n=p1-p3,replace=True) ]).reset_index(drop=True)\n",
    "train_oversampled['Cell Cycle Phase'].hist()"
   ]
  },
  {
   "cell_type": "markdown",
   "metadata": {},
   "source": [
    "## Let's try again training the classifier and see if it improved"
   ]
  },
  {
   "cell_type": "code",
   "execution_count": 25,
   "metadata": {},
   "outputs": [
    {
     "data": {
      "text/plain": [
       "array([[0.44444444, 0.55555556, 0.        ],\n",
       "       [0.        , 0.8       , 0.2       ],\n",
       "       [0.        , 0.25      , 0.75      ]])"
      ]
     },
     "execution_count": 25,
     "metadata": {},
     "output_type": "execute_result"
    },
    {
     "data": {
      "image/png": "[encoded data removed]",
      "text/plain": [
       "<Figure size 640x480 with 2 Axes>"
      ]
     },
     "metadata": {},
     "output_type": "display_data"
    }
   ],
   "source": [
    "from sklearn.linear_model import LogisticRegression\n",
    "\n",
    "x_cols = [col+'_scaled' for col in cols]\n",
    "y_col = 'Cell Cycle Phase'\n",
    "\n",
    "# fit on training set\n",
    "clf = LogisticRegression().fit(train_oversampled[x_cols],train_oversampled[y_col])\n",
    "\n",
    "# predictions on test set\n",
    "preds = clf.predict(test[x_cols])\n",
    "\n",
    "from sklearn.metrics import confusion_matrix,ConfusionMatrixDisplay\n",
    "\n",
    "conf_mat = confusion_matrix(test[y_col],preds,normalize='true')\n",
    "ConfusionMatrixDisplay(confusion_matrix=conf_mat).plot()\n",
    "conf_mat"
   ]
  },
  {
   "cell_type": "markdown",
   "metadata": {},
   "source": [
    "## Better but still not great, let's try other classifiers\n",
    "### Thankfully, all classifiers in `sklearn` obey the same API, ie, they all have the methods:\n",
    "\n",
    "* `fit()`\n",
    "* `predict()`\n",
    "* `predict_proba()`"
   ]
  },
  {
   "cell_type": "code",
   "execution_count": null,
   "metadata": {},
   "outputs": [],
   "source": []
  }
 ],
 "metadata": {
  "kernelspec": {
   "display_name": "bioimagecourse",
   "language": "python",
   "name": "python3"
  },
  "language_info": {
   "codemirror_mode": {
    "name": "ipython",
    "version": 3
   },
   "file_extension": ".py",
   "mimetype": "text/x-python",
   "name": "python",
   "nbconvert_exporter": "python",
   "pygments_lexer": "ipython3",
   "version": "3.10.15"
  }
 },
 "nbformat": 4,
 "nbformat_minor": 2
}
