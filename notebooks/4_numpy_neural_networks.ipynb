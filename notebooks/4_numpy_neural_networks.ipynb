{
 "cells": [
  {
   "cell_type": "markdown",
   "metadata": {},
   "source": [
    "# 4. Build your own Neural Network\n",
    "\n",
    "The only library you need for this notebook is *numpy*.\n"
   ]
  },
  {
   "cell_type": "code",
   "execution_count": 1,
   "metadata": {},
   "outputs": [],
   "source": [
    "# import numpy as np\n",
    "import numpy as np"
   ]
  },
  {
   "attachments": {
    "Clipboard-1.jpg": {
     "image/jpeg": "[encoded data removed]"
    }
   },
   "cell_type": "markdown",
   "metadata": {},
   "source": [
    "## 4.1. Setting up the neural network\n",
    "You will need to set up the following :\n",
    "\n",
    "- Input values\n",
    "\n",
    "- Network Node Weights\n",
    "\n",
    "![Clipboard-1.jpg](attachment:Clipboard-1.jpg)\n",
    "\n",
    "\n",
    "\n"
   ]
  },
  {
   "cell_type": "markdown",
   "metadata": {},
   "source": [
    "### 4.1.1. Create an input numpy array: *input_array*\n",
    "\n",
    "It should have **2** nodes\n",
    "\n",
    "- Create an input numpy array with 2 nodes: *input_array*"
   ]
  },
  {
   "cell_type": "code",
   "execution_count": null,
   "metadata": {},
   "outputs": [],
   "source": [
    "# Create an input numpy array with 2 nodes: input_array"
   ]
  },
  {
   "cell_type": "markdown",
   "metadata": {},
   "source": [
    "### 4.1.2. Create the weights as a dictionary: *weights*\n",
    "\n",
    "It should have **2** hidden layer nodes and **1** output node\n",
    "\n",
    "- node_0 weights: *weights['node_0']*\n",
    "- node_1 weights: *weights['node_1']*\n",
    "- output weights: *weights['output']*"
   ]
  },
  {
   "cell_type": "code",
   "execution_count": null,
   "metadata": {},
   "outputs": [],
   "source": [
    "# Create the weights as a dictionary, with 2 hidden nodes and 1 output node: weights"
   ]
  },
  {
   "cell_type": "markdown",
   "metadata": {},
   "source": [
    "### 4.1.3. Calculate the hidden node values and store them in a numpy array: *hidden_layer_outputs*\n",
    "\n",
    "It should have a value per hidden layer node, in this case **2**\n",
    "\n",
    "- Calculate the value of node_0: *node_0_value*\n",
    "- Calculate the value of node_1: *node_1_value*\n",
    "- Put node values into an array: *hidden_layer_outputs*"
   ]
  },
  {
   "cell_type": "code",
   "execution_count": null,
   "metadata": {},
   "outputs": [],
   "source": [
    "# Calculate node 0 value: node_0_value\n",
    "\n",
    "\n",
    "# Calculate node 1 value: node_1_value\n",
    "\n",
    "\n",
    "# Put node values into array: hidden_layer_outputs"
   ]
  },
  {
   "cell_type": "markdown",
   "metadata": {},
   "source": [
    "### 4.1.4. Calculate the output node value: *output*\n",
    "\n",
    "- Calculate the output node of the network: *output*"
   ]
  },
  {
   "cell_type": "code",
   "execution_count": null,
   "metadata": {},
   "outputs": [],
   "source": [
    "# Calculate model output: output and print it"
   ]
  },
  {
   "cell_type": "markdown",
   "metadata": {},
   "source": [
    "```\n",
    "input_array = np.array([[3, 5]])\n",
    "\n",
    "weights = { 'node_0': np.array([2,4]),\n",
    "            'node_1': np.array([4, -5]),\n",
    "            'output': np.array([2, 7])}\n",
    "\n",
    "\n",
    "# Calculate node 0 value: node_0_value\n",
    "node_0_value = (weights['node_0'] * input_array).sum()\n",
    "print(    node_0_value)\n",
    "\n",
    "# Calculate node 1 value: node_1_value\n",
    "node_1_value = (weights['node_1'] * input_array).sum()\n",
    "print(    node_1_value)\n",
    "\n",
    "# Put node values into array: hidden_layer_outputs\n",
    "hidden_layer_outputs = np.array([node_0_value, node_1_value])\n",
    "print(    hidden_layer_outputs)\n",
    "\n",
    "# Calculate output: output\n",
    "output = (weights['output'] * hidden_layer_outputs).sum()\n",
    "\n",
    "# Print output\n",
    "print(output)\n",
    "\n",
    "```\n"
   ]
  },
  {
   "cell_type": "markdown",
   "metadata": {},
   "source": [
    "## 4.2 Activation functions\n",
    "\n",
    "https://en.wikipedia.org/wiki/Activation_function \n",
    "\n",
    "Activation functions within the neural network hidden layers extend the functionality of a network, allowing for non-linear relationships between inputs and outputs.\n",
    "\n",
    "The most common activation function is the *ReLU* function, which is defined as:\n",
    "\n",
    "$$\n",
    "f(x) = \\max(0, x)\n",
    "$$"
   ]
  },
  {
   "cell_type": "code",
   "execution_count": null,
   "metadata": {},
   "outputs": [],
   "source": [
    "def relu(input):\n",
    "    '''Define your relu activation function here'''\n",
    "    # Calculate the value for the output of the relu function: output\n",
    "    output = max(input, 0)\n",
    "\n",
    "    # Return the value just calculated\n",
    "    return(output)"
   ]
  },
  {
   "cell_type": "markdown",
   "metadata": {},
   "source": [
    "### 4.2.1. Make the same network using the relu activation function: *relu*\n",
    "\n",
    "Using that you learned above try to build the same network using the relu activation function in the hidden layer.\n"
   ]
  },
  {
   "cell_type": "markdown",
   "metadata": {},
   "source": [
    "````\n",
    "# Calculate node 0 value: node_0_output\n",
    "node_0_input = (input_array * weights['node_0']).sum()\n",
    "node_0_output = relu(node_0_input)\n",
    "\n",
    "# Calculate node 1 value: node_1_output\n",
    "node_1_input = (input_array * weights['node_1']).sum()\n",
    "node_1_output = relu(node_1_input)\n",
    "\n",
    "# Put node values into array: hidden_layer_outputs\n",
    "hidden_layer_outputs = np.array([node_0_output, node_1_output])\n",
    "\n",
    "# Calculate model output (do not apply relu)\n",
    "model_output = (hidden_layer_outputs * weights['output']).sum()\n",
    "\n",
    "# Print model output\n",
    "print(model_output)\n",
    "\n",
    "````"
   ]
  },
  {
   "cell_type": "markdown",
   "metadata": {},
   "source": [
    "### 4.3 Online Tensorflow Playground\n",
    "\n",
    "[Tensorflow Playground](https://playground.tensorflow.org/#activation=relu&batchSize=10&dataset=circle&regDataset=reg-plane&learningRate=0.03&regularizationRate=0&noise=0&networkShape=4,2&seed=0.79161&showTestData=false&discretize=false&percTrainData=50&x=true&y=true&xTimesY=false&xSquared=false&ySquared=false&cosX=false&sinX=false&cosY=false&sinY=false&collectStats=false&problem=classification&initZero=false&hideText=false)"
   ]
  },
  {
   "cell_type": "markdown",
   "metadata": {},
   "source": []
  },
  {
   "cell_type": "code",
   "execution_count": null,
   "metadata": {},
   "outputs": [],
   "source": []
  }
 ],
 "metadata": {
  "kernelspec": {
   "display_name": "ds_regionprops",
   "language": "python",
   "name": "python3"
  },
  "language_info": {
   "codemirror_mode": {
    "name": "ipython",
    "version": 3
   },
   "file_extension": ".py",
   "mimetype": "text/x-python",
   "name": "python",
   "nbconvert_exporter": "python",
   "pygments_lexer": "ipython3",
   "version": "3.8.19"
  }
 },
 "nbformat": 4,
 "nbformat_minor": 2
}
