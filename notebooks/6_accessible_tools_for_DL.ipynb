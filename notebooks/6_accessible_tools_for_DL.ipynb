{
 "cells": [
  {
   "cell_type": "markdown",
   "metadata": {},
   "source": [
    "# 6. Accessible tools for Deep Learning  "
   ]
  },
  {
   "cell_type": "markdown",
   "metadata": {},
   "source": [
    "## 6.1. Using the Bioimage Model Zoo\n",
    "\n",
    "[Bioimage Model Zoo](https://bioimage.io/#/)"
   ]
  },
  {
   "cell_type": "markdown",
   "metadata": {},
   "source": [
    "The BMZ has two published python libraries that allow the consumption and generation of models, datasets and applications from the BioImage Model Zoo.\n",
    "\n",
    "These are the [bioimageio.core](https://pypi.org/project/bioimageio.core/) and the [bioimageio.spec](https://pypi.org/project/bioimageio.spec/) packages.\n",
    "\n",
    "----"
   ]
  },
  {
   "cell_type": "markdown",
   "metadata": {},
   "source": [
    "\n",
    "### 6.1.1. bioimageio.spec load and create a model\n",
    "\n",
    "In the [Bioimageio-spec](https://github.com/bioimage-io/spec-bioimage-io) Github repo you can find an example notebook on how to load and create a model.\n",
    "\n",
    "[![Open In Colab](https://colab.research.google.com/assets/colab-badge.svg)](https://githubtocolab.com/bioimage-io/spec-bioimage-io/blob/main/example/load_model_and_create_your_own.ipynb)\n",
    "\n",
    "-----\n",
    "\n",
    "### 6.1.2. bioimageio.core test a model\n",
    "\n",
    "in the [Bioimageio-core](https://github.com/bioimage-io/core-bioimage-io-python) Github repo you can find an example notebook on how to test a model.\n",
    "\n",
    "[![Open In Colab](https://colab.research.google.com/assets/colab-badge.svg)](https://githubtocolab.com/bioimage-io/core-bioimage-io-python/blob/main/example/model_usage.ipynb)\n",
    "\n"
   ]
  },
  {
   "cell_type": "markdown",
   "metadata": {},
   "source": [
    "----\n",
    "\n",
    "## 6.2. Using ZeroCostDL4Mic and DL4MicEverywhere - codeless Deep Learning tools\n",
    "\n",
    "\n",
    "&nbsp;\n",
    "\n",
    "----\n",
    "### 6.2.1. ZeroCostDL4Mic\n",
    "\n",
    "[ZeroCostDL4Mic wiki](https://github.com/HenriquesLab/ZeroCostDL4Mic/wiki)\n",
    "\n",
    "Collection of GoogleColab notebooks that make use of Google's computing power, hence the **ZeroCost** moniker. The notebooks are designed for researchers that have little or no coding expertise to quickly test, train and use popular Deep-Learning networks. Although python coding knowledge is beneficial in case of issues and troubleshooting.\n",
    "\n",
    "----   \n",
    "\n",
    "### 6.2.2. DL4MicEverywhere\n",
    "\n",
    "[DL4MicEverywhere Github repo](https://github.com/HenriquesLab/DL4MicEverywhere)\n",
    "\n",
    "Conversion of the ZeroCostDL4Mic notebooks to Jupyter Notebooks using a custom script, that also packages the python environment requirements in a docker image. This, combined with notebook and release versioning, allows for easy deployment and reproducibility of workflows across space and time. \n",
    "\n",
    "----"
   ]
  }
 ],
 "metadata": {
  "kernelspec": {
   "display_name": "ds_regionprops",
   "language": "python",
   "name": "python3"
  },
  "language_info": {
   "codemirror_mode": {
    "name": "ipython",
    "version": 3
   },
   "file_extension": ".py",
   "mimetype": "text/x-python",
   "name": "python",
   "nbconvert_exporter": "python",
   "pygments_lexer": "ipython3",
   "version": "3.12.3"
  }
 },
 "nbformat": 4,
 "nbformat_minor": 2
}
